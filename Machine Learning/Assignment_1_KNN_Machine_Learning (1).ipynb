{
  "nbformat": 4,
  "nbformat_minor": 0,
  "metadata": {
    "colab": {
      "provenance": []
    },
    "kernelspec": {
      "name": "python3",
      "display_name": "Python 3"
    },
    "language_info": {
      "name": "python"
    }
  },
  "cells": [
    {
      "cell_type": "code",
      "execution_count": 2,
      "metadata": {
        "id": "AesHFq4gXGGG"
      },
      "outputs": [],
      "source": [
        "from math import sqrt"
      ]
    },
    {
      "cell_type": "code",
      "source": [
        "def calculate_distance(row1, row2):\n",
        "  return sqrt(\n",
        "    sum(\n",
        "    [(row1[0][i] - row2[0][i])**2 for i in range(len(row1[0]))]\n",
        "    ))"
      ],
      "metadata": {
        "id": "5inKCbaKXWEz"
      },
      "execution_count": 3,
      "outputs": []
    },
    {
      "cell_type": "code",
      "source": [
        "# Test distance function\n",
        "dataset = [\n",
        "([1,2], 1), ([2,1], 1),\n",
        "([0,1], 0), ([1,0], 0)\n",
        "]\n",
        "print(dataset)"
      ],
      "metadata": {
        "id": "ry6JxaEAXbv0",
        "colab": {
          "base_uri": "https://localhost:8080/"
        },
        "outputId": "0d2b380c-72ef-491c-f0a1-475a44350060"
      },
      "execution_count": 4,
      "outputs": [
        {
          "output_type": "stream",
          "name": "stdout",
          "text": [
            "[([1, 2], 1), ([2, 1], 1), ([0, 1], 0), ([1, 0], 0)]\n"
          ]
        }
      ]
    },
    {
      "cell_type": "code",
      "source": [
        "# compute distance from a data point\n",
        "test_row = ([0, 0], -1)\n",
        "\n",
        "distances = [calculate_distance(test_row, row) for row in dataset]\n",
        "print(distances)"
      ],
      "metadata": {
        "colab": {
          "base_uri": "https://localhost:8080/"
        },
        "id": "EUNnd374Xidi",
        "outputId": "b914eacb-10cc-4dcb-f8c9-8d11f97300db"
      },
      "execution_count": 5,
      "outputs": [
        {
          "output_type": "stream",
          "name": "stdout",
          "text": [
            "[2.23606797749979, 2.23606797749979, 1.0, 1.0]\n"
          ]
        }
      ]
    },
    {
      "cell_type": "code",
      "source": [
        "def get_neighbors(train, test_row, num_neighbors=3):\n",
        "    #compute distances\n",
        "    distances = [(train_row, calculate_distance(test_row, train_row))\n",
        "    for train_row in train]\n",
        "    #sort\n",
        "    distances.sort(key=lambda tup: tup[1])\n",
        "    #get top-k neighbors\n",
        "    neighbors = [distances[i][0] for i in range(num_neighbors)]\n",
        "    return neighbors"
      ],
      "metadata": {
        "id": "n4xvaQrAXki1"
      },
      "execution_count": 6,
      "outputs": []
    },
    {
      "cell_type": "code",
      "source": [
        "# test get_get_neighbors function with top-3 neighbors\n",
        "neighbors = get_neighbors(dataset, test_row)\n",
        "print(neighbors)"
      ],
      "metadata": {
        "colab": {
          "base_uri": "https://localhost:8080/"
        },
        "id": "ytDE2fYbXl74",
        "outputId": "a63b7b9c-680d-4b36-d81e-6f52ab4d63d1"
      },
      "execution_count": 7,
      "outputs": [
        {
          "output_type": "stream",
          "name": "stdout",
          "text": [
            "[([0, 1], 0), ([1, 0], 0), ([1, 2], 1)]\n"
          ]
        }
      ]
    },
    {
      "cell_type": "code",
      "source": [
        "def predict_classification(train, test_row, num_neighbors=3):\n",
        "    #get top-k neighbors\n",
        "    neighbors = get_neighbors(train, test_row, num_neighbors)\n",
        "    # get most frequent label\n",
        "    output_values = [row[-1] for row in neighbors]\n",
        "    prediction = max(set(output_values), key=output_values.count)\n",
        "    return prediction"
      ],
      "metadata": {
        "id": "k3BlQUhhXnOL"
      },
      "execution_count": 8,
      "outputs": []
    },
    {
      "cell_type": "code",
      "source": [
        "# test prediction function\n",
        "test_row = ([2, 2], 1)\n",
        "prediction = predict_classification(dataset, test_row)\n",
        "print(prediction)"
      ],
      "metadata": {
        "colab": {
          "base_uri": "https://localhost:8080/"
        },
        "id": "VtSj1YIyXplu",
        "outputId": "2f888de3-a5d1-4e8e-96df-9756c0065472"
      },
      "execution_count": 9,
      "outputs": [
        {
          "output_type": "stream",
          "name": "stdout",
          "text": [
            "1\n"
          ]
        }
      ]
    },
    {
      "cell_type": "code",
      "source": [
        "from sklearn.datasets import make_blobs\n",
        "from matplotlib import pyplot\n",
        "from pandas import DataFrame"
      ],
      "metadata": {
        "id": "ecPyTtOtXqSC"
      },
      "execution_count": 10,
      "outputs": []
    },
    {
      "cell_type": "code",
      "source": [
        "# generate 2d classification dataset\n",
        "X, y = make_blobs(n_samples=500, centers=3, n_features=2)"
      ],
      "metadata": {
        "id": "HpxE0j-oXr4F"
      },
      "execution_count": 11,
      "outputs": []
    },
    {
      "cell_type": "code",
      "source": [
        "X, y = X.tolist(), y.tolist()\n",
        "dataset = [(data, label) for data, label in zip(X,y)]"
      ],
      "metadata": {
        "id": "EjG0ZQzpXwNt"
      },
      "execution_count": 12,
      "outputs": []
    },
    {
      "cell_type": "code",
      "source": [
        "test_data_point = ( [0, 5], 1)\n",
        "prediction = predict_classification(dataset, test_data_point)\n",
        "print(prediction)"
      ],
      "metadata": {
        "colab": {
          "base_uri": "https://localhost:8080/"
        },
        "id": "ns2y-ySEXxtA",
        "outputId": "8f127c58-9f43-4cf0-e3fb-92cb4cb6a382"
      },
      "execution_count": 13,
      "outputs": [
        {
          "output_type": "stream",
          "name": "stdout",
          "text": [
            "0\n"
          ]
        }
      ]
    },
    {
      "cell_type": "code",
      "source": [
        "import numpy\n",
        "from sklearn import metrics\n",
        "import matplotlib.pyplot as plt"
      ],
      "metadata": {
        "id": "x1w5LPGCPr0p"
      },
      "execution_count": 14,
      "outputs": []
    },
    {
      "cell_type": "code",
      "source": [
        "actual = [ 0, 1, 2, 0, 1, 2, 2, 1, 0, 1, 2, 0, 1, 0, 2, 1, 0, 1, 1, 1]\n",
        "print(\"actual values\", actual)\n",
        "predicted = [ 0, 2, 1 , 0, 1 ,2, 1, 2, 0, 0, 2, 2, 1, 1, 0, 1, 0, 0, 1, 2]\n",
        "print(\"predicted values\", predicted)"
      ],
      "metadata": {
        "colab": {
          "base_uri": "https://localhost:8080/"
        },
        "id": "tGhUJY4pRZir",
        "outputId": "5bb1a0a0-ebdd-42cb-fefe-fec12eb9b965"
      },
      "execution_count": 15,
      "outputs": [
        {
          "output_type": "stream",
          "name": "stdout",
          "text": [
            "actual values [0, 1, 2, 0, 1, 2, 2, 1, 0, 1, 2, 0, 1, 0, 2, 1, 0, 1, 1, 1]\n",
            "predicted values [0, 2, 1, 0, 1, 2, 1, 2, 0, 0, 2, 2, 1, 1, 0, 1, 0, 0, 1, 2]\n"
          ]
        }
      ]
    },
    {
      "cell_type": "code",
      "source": [
        "confusionMatrix = metrics.confusion_matrix(actual, predicted)\n",
        "cm_display = metrics.ConfusionMatrixDisplay(confusion_matrix = confusionMatrix)\n",
        "cm_display.plot()\n",
        "plt.show()\n"
      ],
      "metadata": {
        "colab": {
          "base_uri": "https://localhost:8080/",
          "height": 455
        },
        "id": "y86oTO9YSBQP",
        "outputId": "1aa753db-4fff-446a-d535-40fb29e644ea"
      },
      "execution_count": 16,
      "outputs": [
        {
          "output_type": "display_data",
          "data": {
            "text/plain": [
              "<Figure size 640x480 with 2 Axes>"
            ],
            "image/png": "[encoded data removed]"
          },
          "metadata": {}
        }
      ]
    },
    {
      "cell_type": "code",
      "source": [
        "TruePositive0 = 0\n",
        "TruePositive1 = 0\n",
        "TruePositive2 = 0\n",
        "TrueNegative0 = 0\n",
        "TrueNegative1 = 0\n",
        "TrueNegative2 = 0\n",
        "TotalTruePositives = 0\n",
        "FalsePositive0 = 0\n",
        "FalsePositive1 = 0\n",
        "FalsePositive2 = 0\n",
        "TotalFalsePositives = 0\n",
        "FalseNegative0 = 0\n",
        "FalseNegative1 = 0\n",
        "FalseNegative2 = 0\n",
        "TotalFalseNegatives = 0\n",
        "TotalPredictions = 20\n",
        "\n",
        "for i in range(20):\n",
        "  if predicted[i] == 1 & actual[i] == 1:\n",
        "      TruePositive1 +=1\n",
        "      TotalTruePositives +=1\n",
        "  if predicted[i] == 0 & actual[i] == 0:\n",
        "      TruePositive0 +=1\n",
        "      TotalTruePositives +=1\n",
        "  if predicted[i] == 2 & actual[i] == 2:\n",
        "      TruePositive2 +=1\n",
        "      TotalTruePositives +=1\n",
        "  if predicted[i] == 0 & actual[i] == 1:\n",
        "      FalsePositive0 +=1\n",
        "      FalseNegative1 +=1\n",
        "      TotalFalsePositives +=1\n",
        "      TotalFalseNegatives +=1\n",
        "  if predicted[i] == 0 & actual[i] == 2:\n",
        "      FalsePositive0 +=1\n",
        "      FalseNegative2 +=1\n",
        "      TotalFalsePositives +=1\n",
        "      TotalFalseNegatives +=1\n",
        "  if predicted[i] == 1 & actual[i] == 0:\n",
        "      FalsePositive1 +=1\n",
        "      FalseNegative0 +=1\n",
        "      TotalFalsePositives +=1\n",
        "      TotalFalseNegatives +=1\n",
        "  if predicted[i] == 1 & actual[i] == 2:\n",
        "      FalsePositive1 +=1\n",
        "      FalseNegative2 +=1\n",
        "      TotalFalsePositives +=1\n",
        "      TotalFalseNegatives +=1\n",
        "  if predicted[i] == 2 & actual[i] == 0:\n",
        "      FalsePositive2 +=1\n",
        "      FalseNegative0 +=1\n",
        "      TotalFalsePositives +=1\n",
        "      TotalFalseNegatives +=1\n",
        "  if predicted[i] == 2 & actual[i] == 1:\n",
        "      FalsePositive2 +=1\n",
        "      FalseNegative1 +=1\n",
        "      TotalFalsePositives +=1\n",
        "      TotalFalseNegatives +=1\n",
        "\n",
        "\n"
      ],
      "metadata": {
        "id": "87hMyI5pStyM"
      },
      "execution_count": 17,
      "outputs": []
    },
    {
      "cell_type": "code",
      "source": [
        "#Calculate Accuracy: (True Positive + True Negative ) / Total Predictions\n",
        "accuracy0 = (TruePositive0 + TrueNegative0) / TotalPredictions\n",
        "accuracy1 = (TruePositive1 + TrueNegative1) / TotalPredictions\n",
        "accuracy2 = (TruePositive2 + TrueNegative2) / TotalPredictions\n",
        "print (\"The accuracy for 0,1,2 is: \", accuracy0, accuracy1, accuracy2)\n"
      ],
      "metadata": {
        "colab": {
          "base_uri": "https://localhost:8080/"
        },
        "id": "-F_jCGYWUfZN",
        "outputId": "a919b93e-04f7-4b64-aa0e-98975619edfb"
      },
      "execution_count": 18,
      "outputs": [
        {
          "output_type": "stream",
          "name": "stdout",
          "text": [
            "The accuracy for 0,1,2 is:  0.35 0.2 0.1\n"
          ]
        }
      ]
    },
    {
      "cell_type": "code",
      "source": [
        "#Calculate Precision: True Positive / (True Positive + False Positive)\n",
        "precision0 = TruePositive0 / (TruePositive0 + FalsePositive0)\n",
        "precision1 = TruePositive1 / (TruePositive1 + FalsePositive1)\n",
        "precision2 = TruePositive2 / (TruePositive2 + FalsePositive2)\n",
        "\n",
        "print(\"The precision for 0,1,2 is: \", precision0, precision1, precision2)"
      ],
      "metadata": {
        "colab": {
          "base_uri": "https://localhost:8080/"
        },
        "id": "gNj_QE5V47ur",
        "outputId": "687e586a-aa13-48cf-ed7c-26b11495d1f1"
      },
      "execution_count": 19,
      "outputs": [
        {
          "output_type": "stream",
          "name": "stdout",
          "text": [
            "The precision for 0,1,2 is:  1.0 0.4444444444444444 0.25\n"
          ]
        }
      ]
    },
    {
      "cell_type": "code",
      "source": [
        "#Calculate Recall: True Positive / (True Positive + False Negative)\n",
        "recall0 = TruePositive0 / (TruePositive0 + FalseNegative0)\n",
        "recall1 = TruePositive1 / (TruePositive1 + FalseNegative1)\n",
        "recall2 = TruePositive2 / (TruePositive2 + FalseNegative2)\n",
        "\n",
        "print(\"The recall for 0,1,2 is: \", recall0, recall1, recall2)\n"
      ],
      "metadata": {
        "colab": {
          "base_uri": "https://localhost:8080/"
        },
        "id": "JwRskUf_5a94",
        "outputId": "b50f2065-faeb-4825-e1af-52ed03266eb1"
      },
      "execution_count": 20,
      "outputs": [
        {
          "output_type": "stream",
          "name": "stdout",
          "text": [
            "The recall for 0,1,2 is:  0.3888888888888889 1.0 1.0\n"
          ]
        }
      ]
    },
    {
      "cell_type": "code",
      "source": [
        "#Calculate F1-Score (micro, macro weighted)\n",
        "f1Score0 = TruePositive0 / (TruePositive0 + .5 * (FalsePositive0 + FalseNegative0))\n",
        "f1Score1 = TruePositive1 / (TruePositive1 + .5 * (FalsePositive1 + FalseNegative1))\n",
        "f1Score2 = TruePositive2 / (TruePositive2 + .5 * (FalsePositive2 + FalseNegative2))\n",
        "print(\"The f1-scores for 0,1,2 are: \", f1Score0, f1Score1, f1Score2)\n",
        "#Micro\n",
        "\n",
        "micro = TotalTruePositives / (TotalTruePositives + .5 * (TotalFalsePositives + TotalFalseNegatives))\n",
        "print(\"The micro F1-Score is: \", micro)\n",
        "\n",
        "#Macro\n",
        "macro = (f1Score0 + f1Score1 + f1Score2) / 3\n",
        "print(\"The macro F1-Score is: \", macro)\n",
        "\n",
        "\n",
        "#Weighted\n",
        "support0 = (TruePositive0 + FalseNegative0) / 100\n",
        "support1 = (TruePositive1 + FalseNegative1) / 100\n",
        "support2 = (TruePositive2 + FalseNegative2) / 100\n",
        "\n",
        "weighted = (f1Score0 * support0) + (f1Score1 * support1) + (f1Score2 * support2)\n",
        "print(\"The weighted F1-Score is: \", weighted)\n",
        "\n"
      ],
      "metadata": {
        "colab": {
          "base_uri": "https://localhost:8080/"
        },
        "id": "mU8J6MIdXy32",
        "outputId": "fec9f5f2-fac2-495f-f88b-04ea8eaee6e2"
      },
      "execution_count": 21,
      "outputs": [
        {
          "output_type": "stream",
          "name": "stdout",
          "text": [
            "The f1-scores for 0,1,2 are:  0.56 0.6153846153846154 0.4\n",
            "The micro F1-Score is:  0.5416666666666666\n",
            "The macro F1-Score is:  0.5251282051282051\n",
            "The weighted F1-Score is:  0.13341538461538463\n"
          ]
        }
      ]
    },
    {
      "cell_type": "markdown",
      "source": [
        "**Use UCI website (https://archive.ics.uci.edu/ml/datasets/iris) to download IRIS dataset. Explore webpage to know about the dataset and write a simple paragraph about the dataset.**\n",
        "\n",
        "The dataset comprises of four measurements on each of the 50 plants of three different species of iris: versicolor, setosa, and virginica. All of this data was collected by the botanist Edga Anderson. The data set was first used to illustrate the new technique of linear discriminant analysis. Since then, it has been analyzed using a veriety of different clustering techniques, regressions, components, and much more."
      ],
      "metadata": {
        "id": "EpV7fzPW-n9m"
      }
    },
    {
      "cell_type": "code",
      "source": [
        "from sklearn.datasets import load_iris\n",
        "#I decided to load the iris this way because I could not figure out how to upload a file into my google collab\n",
        "import numpy\n",
        "import random\n",
        "import itertools\n",
        "\n",
        "iris = load_iris()\n",
        "\n",
        "targetData = iris.target\n",
        "irisData = iris.data\n",
        "\n",
        "training_size = len(irisData) * .8\n",
        "trainingArray = list(itertools.repeat(0, 120))\n",
        "validation_size = len(irisData) * .1\n",
        "validationArray = list(itertools.repeat(0, 15))\n",
        "testing_size = len(irisData) * .1\n",
        "testingArray = list(itertools.repeat(0, 15))\n",
        "\n",
        "random.shuffle(irisData)\n",
        "\n",
        "#create training array\n",
        "i = 0\n",
        "for x in range(0,120):\n",
        "  trainingArray[i] = irisData[i]\n",
        "  i += 1\n",
        "a=0\n",
        "\n",
        "#create validation array\n",
        "for x in range(15):\n",
        "  validationArray[a] = irisData[i]\n",
        "  a +=1\n",
        "  i+=1\n",
        "\n",
        "a=0\n",
        "\n",
        "#create testing array\n",
        "for x in range(15):\n",
        "  testingArray[a] = irisData[i]\n",
        "  i+=1\n",
        "  a +=1\n",
        "\n",
        "#print(testingArray)\n"
      ],
      "metadata": {
        "id": "E_Vud0QybRLy"
      },
      "execution_count": 22,
      "outputs": []
    },
    {
      "cell_type": "code",
      "source": [
        "from sklearn.datasets import load_iris\n",
        "#I decided to load the iris this way because I could not figure out how to import the iris.data into google collab.\n",
        "import array\n",
        "import numpy as np\n",
        "import pandas as pd\n",
        "\n",
        "#calculate Euclidian Distance\n",
        "def EuclideanDistance(row1, row2):\n",
        "    distance = 0\n",
        "    for i in range(len(row1)-1):\n",
        "        distance += (row1[i] - row2[i])**2            #(x1-x2)**2+(y1-y2)**2\n",
        "    return sqrt(distance)\n",
        "\n",
        "def ManhattenDistance(row1, row2):\n",
        "    distance = 0\n",
        "    for x1, x2 in zip(row1, row2):\n",
        "        difference = x2 - x1\n",
        "        absolute_difference = abs(difference)\n",
        "        distance += absolute_difference\n",
        "    return distance\n",
        "\n",
        "\n",
        "#get neighbors\n",
        "def GetNeighbors(train, test_row, num):\n",
        "    distance = list() # []\n",
        "    data = []\n",
        "    for i in train:\n",
        "        dist = ManhattenDistance(test_row,i) #EuclideanDistance(test_row, i)\n",
        "        distance.append(dist)\n",
        "        data.append(i)\n",
        "    distance = array.array('f', distance)\n",
        "    data = [array.array('f', row) for row in data]\n",
        "    index_dist = sorted(range(len(distance)), key=lambda i: distance[i])\n",
        "    data = [data[i] for i in index_dist]\n",
        "    neighbors = data[:num]\n",
        "\n",
        "    #print(neighbors)\n",
        "    #print(num)\n",
        "    return neighbors\n",
        "\n",
        "#predict what type of iris they will be\n",
        "def predictClassification(train, test_row, num):\n",
        "    Neighbors = GetNeighbors(train, test_row, num)\n",
        "    Classes = []\n",
        "    for i in Neighbors:\n",
        "        Classes.append(i[-1])\n",
        "    prediction = max(Classes, key= Classes.count)\n",
        "    return prediction\n",
        "\n",
        "#calculate the accuracy\n",
        "def Evaluate(yTrue, yPred):\n",
        "    truePositive = 0\n",
        "    falsePositive = 0\n",
        "    falseNegative = 0\n",
        "    #print(yPred)\n",
        "    newYPred = np.round_(yTrue, decimals = 3)\n",
        "    #print(newYPred)\n",
        "    for i in range(len(yTrue)):\n",
        "        if yTrue[i] == newYPred[i]:\n",
        "            truePositive +=1\n",
        "        if yTrue[i] <= newYPred[i]:\n",
        "             falsePositive += 1\n",
        "        if yTrue[i] >= newYPred[i]:\n",
        "             falseNegative += 1\n",
        "    accuracy = truePositive/len(yTrue)\n",
        "    return accuracy, truePositive, falsePositive, falseNegative\n",
        "\n",
        "def getF1Score(yTrue, yPred, class_label, TP, FP, FN):\n",
        "\n",
        "    precision = TP / (TP + FP)\n",
        "    recall = TP / (TP + FN)\n",
        "\n",
        "    f1_score = 2 * (precision * recall) / (precision + recall)\n",
        "    return f1_score\n",
        "\n",
        "def calculate_micro_f1_score(yTrue, yPred, TP):\n",
        "    total_samples = len(yTrue)\n",
        "    #print(TP)\n",
        "    micro_precision = TP / total_samples\n",
        "    micro_recall = TP / total_samples\n",
        "    print (micro_precision)\n",
        "    micro_f1_score = 2 * (micro_precision * micro_recall) / (micro_precision + micro_recall)\n",
        "    return micro_f1_score\n",
        "\n",
        "def calculate_macro_f1_score(yTrue, yPred, TP, FP, FN):\n",
        "    unique_classes = set(yTrue + yPred)\n",
        "    macro_f1_scores = []\n",
        "\n",
        "    for class_label in unique_classes:\n",
        "        f1_score = getF1Score(yTrue, yPred, class_label, TP, FP, FN)\n",
        "        macro_f1_scores.append(f1_score)\n",
        "\n",
        "    macro_f1_score = sum(macro_f1_scores) / len(macro_f1_scores)\n",
        "    return macro_f1_score\n",
        "\n",
        "def calculate_weighted_f1_score(yTrue, yPred, TP, FP, FN):\n",
        "    unique_classes = set(yTrue + yPred)\n",
        "    class_counts = {class_label: (yTrue.count(class_label), yPred.count(class_label)) for class_label in unique_classes}\n",
        "    weighted_f1_scores = []\n",
        "\n",
        "    for class_label in unique_classes:\n",
        "        true_samples, pred_samples = class_counts[class_label]\n",
        "        weight = true_samples / len(yTrue)\n",
        "        f1_score = getF1Score(yTrue, yPred, class_label, TP, FP, FN)\n",
        "        weighted_f1_scores.append(weight * f1_score)\n",
        "\n",
        "    weighted_f1_score = sum(weighted_f1_scores)\n",
        "    return weighted_f1_score\n",
        "\n",
        "data = [iris_row + [target_value] for iris_row, target_value in zip(irisData, targetData)]\n",
        "#print(data)\n",
        "\n",
        "yPred = []\n",
        "yTrue = [row[-1] for row in testingArray]\n",
        "\n",
        "for i in testingArray:\n",
        "    prediction = predictClassification(trainingArray, i, 10)\n",
        "    yPred.append(prediction)\n",
        "\n",
        "accuracy, truePositive, falsePositive, falseNegative = Evaluate(yTrue, yPred)\n",
        "\n",
        "#print(yPred)\n",
        "\n",
        "print(\"The accuracy is: \", accuracy)\n",
        "\n",
        "precision = truePositive / (truePositive + falsePositive)\n",
        "\n",
        "print(\"The precision is: \", precision)\n",
        "\n",
        "recall = truePositive / (truePositive + falseNegative)\n",
        "\n",
        "print(\"The recall is: \", recall)\n",
        "\n",
        "\n",
        "micro_f1 = calculate_micro_f1_score(yTrue, yPred, truePositive)\n",
        "macro_f1 = calculate_macro_f1_score(yTrue, yPred, truePositive, falsePositive, falseNegative)\n",
        "weighted_f1 = calculate_weighted_f1_score(yTrue, yPred, truePositive, falsePositive, falseNegative)\n",
        "\n",
        "print(\"Micro F1-Score:\", micro_f1)\n",
        "print(\"Macro F1-Score:\", macro_f1)\n",
        "print(\"Weighted F1-Score:\", weighted_f1)\n"
      ],
      "metadata": {
        "colab": {
          "base_uri": "https://localhost:8080/"
        },
        "id": "0r6aDBYTRx_8",
        "outputId": "cb09d261-039c-43f6-84d2-82b7da6c73ef"
      },
      "execution_count": 28,
      "outputs": [
        {
          "output_type": "stream",
          "name": "stdout",
          "text": [
            "The accuracy is:  1.0\n",
            "The precision is:  0.5\n",
            "The recall is:  0.5\n",
            "1.0\n",
            "Micro F1-Score: 1.0\n",
            "Macro F1-Score: 0.5\n",
            "Weighted F1-Score: 0.5\n"
          ]
        }
      ]
    },
    {
      "cell_type": "markdown",
      "source": [
        "I noticed that when comparing the manhatten distance with the eucledian distance method on the iris data set, that the Manhatten distance appeared to perform better. With Eucledian, my accuracy was lower than with Manhatten. I did also notice that with the Manhatten method had a higher precision than the Eucledian Method. Manhatten distance is typically preffered over Eucledian distance where there is a high dimensionality in the data. For this reason, the Manhatten distance worked better for my data."
      ],
      "metadata": {
        "id": "t6LlTlc5qUxV"
      }
    }
  ]
}